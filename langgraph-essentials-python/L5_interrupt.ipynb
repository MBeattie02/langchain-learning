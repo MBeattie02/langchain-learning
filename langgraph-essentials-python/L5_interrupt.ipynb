{
 "cells": [
  {
   "cell_type": "markdown",
   "id": "ecb75fe5",
   "metadata": {},
   "source": [
    "<span style=\"font-size: 5em\">🦜</span>"
   ]
  },
  {
   "cell_type": "markdown",
   "id": "ca77c73d-b072-4407-83da-81f8836a5284",
   "metadata": {},
   "source": [
    "# __LangGraph Essentials__\n",
    "## Lab 5: Interrupt! Human In The Loop\n",
    "<div style=\"display:flex; align-items:flex-start;\">\n",
    "  <img src=\"../assets/HITL.png\" width=\"500\" style=\"margin-right:15px;\"/>\n",
    "</div>"
   ]
  },
  {
   "cell_type": "markdown",
   "id": "4c5b0b30",
   "metadata": {},
   "source": [
    "LangGraph's `interrupt()` function pauses graph execution and waits for human input before continuing. This enables human-in-the-loop workflows where an admin can review unexpected situations and decide how to proceed. Interrupts require a checkpointer to save state between pauses.\n"
   ]
  },
  {
   "cell_type": "code",
   "execution_count": 2,
   "id": "7b1e554c",
   "metadata": {},
   "outputs": [],
   "source": [
    "from IPython.display import Image, display\n",
    "import operator\n",
    "from typing import Annotated, List, Literal, TypedDict\n",
    "from langgraph.graph import END, START, StateGraph\n",
    "from langgraph.types import Command, interrupt"
   ]
  },
  {
   "cell_type": "code",
   "execution_count": 3,
   "id": "743749a6-1de9-4c1f-a1de-9d852face602",
   "metadata": {},
   "outputs": [],
   "source": [
    "from langgraph.checkpoint.memory import InMemorySaver\n",
    "\n",
    "memory = InMemorySaver()\n",
    "config = {\"configurable\": {\"thread_id\": \"1\"}}"
   ]
  },
  {
   "cell_type": "markdown",
   "id": "8d95f72d",
   "metadata": {},
   "source": [
    "<a id='l5_memory'></a>\n"
   ]
  },
  {
   "cell_type": "code",
   "execution_count": 4,
   "id": "13bec678-d282-4154-a61a-10f80aea9285",
   "metadata": {},
   "outputs": [],
   "source": [
    "class State(TypedDict):\n",
    "    nlist : Annotated[list[str], operator.add]  "
   ]
  },
  {
   "cell_type": "markdown",
   "id": "aaeda67d",
   "metadata": {},
   "source": [
    "<a id='l5_state'></a>\n"
   ]
  },
  {
   "cell_type": "code",
   "execution_count": 5,
   "id": "143ca886-3759-4e01-844a-66d82c0ccf47",
   "metadata": {},
   "outputs": [],
   "source": [
    "def node_a(state: State) -> Command[Literal[\"b\", \"c\", END]]:\n",
    "    print(\"Entered 'a' node\")\n",
    "    select = state[\"nlist\"][-1]\n",
    "    if select == \"b\":\n",
    "        next_node = \"b\"\n",
    "    elif select == \"c\":\n",
    "        next_node = \"c\"\n",
    "    elif select == \"q\":\n",
    "        next_node = END\n",
    "    else:\n",
    "        admin = interrupt(f\"Unexpected input '{select}'\")\n",
    "        print(admin)\n",
    "        if admin == \"continue\":\n",
    "            next_node = \"b\"\n",
    "        else:\n",
    "            next_node = END\n",
    "            select = \"q\"\n",
    "            \n",
    "    return Command(\n",
    "        update = State(nlist = [select]),\n",
    "        goto = next_node\n",
    "    )\n",
    "\n",
    "\n",
    "def node_b (state: State) -> State:\n",
    "    return(State(nlist = [\"B\"]))\n",
    "\n",
    "def node_c (state: State) -> State:\n",
    "    return(State(nlist = [\"C\"]))"
   ]
  },
  {
   "cell_type": "markdown",
   "id": "642b3080",
   "metadata": {},
   "source": [
    "<a id='interrupt_node'></a>\n"
   ]
  },
  {
   "cell_type": "code",
   "execution_count": 6,
   "id": "13f7b0ca-7645-4117-9108-ce2d32677ca0",
   "metadata": {
    "scrolled": true
   },
   "outputs": [],
   "source": [
    "builder = StateGraph(State)\n",
    "\n",
    "# Add nodes\n",
    "builder.add_node(\"a\", node_a)\n",
    "builder.add_node(\"b\", node_b)\n",
    "builder.add_node(\"c\", node_c)\n",
    "\n",
    "# Add edges\n",
    "builder.add_edge(START,\"a\")\n",
    "builder.add_edge(\"b\", END)\n",
    "builder.add_edge(\"c\", END)\n",
    "\n",
    "# Compile\n",
    "graph = builder.compile(checkpointer=memory)"
   ]
  },
  {
   "cell_type": "markdown",
   "id": "bb0eb249",
   "metadata": {},
   "source": [
    "<a id='l5_graph'></a>\n"
   ]
  },
  {
   "cell_type": "code",
   "execution_count": 7,
   "id": "60264452-2b35-4b2a-bde4-7b2deb889ca2",
   "metadata": {},
   "outputs": [
    {
     "name": "stdin",
     "output_type": "stream",
     "text": [
      "b, c, or q to quit:  q\n"
     ]
    },
    {
     "name": "stdout",
     "output_type": "stream",
     "text": [
      "Entered 'a' node\n",
      "quit\n"
     ]
    }
   ],
   "source": [
        "while True:\n",
        "    user = input('b, c, or q to quit: ')\n",
        "    input_state = State(nlist = [user])\n",
        "    result = graph.invoke(input_state, config)\n",
        "\n",
        "    if '__interrupt__' in result:\n",
        "        print(f\"Interrupt:{result}\")\n",
        "        msg = result['__interrupt__'][-1].value\n",
        "        print(msg)\n",
        "        human = input(f\"\\n{msg}: \")\n",
        "\n",
        "        human_response = Command(\n",
        "            resume = human\n",
        "        )\n",
        "        result = graph.invoke(human_response, config)\n",
        "        \n",
        "    if result['nlist'][-1] == \"q\":\n",
        "        print(\"quit\")\n",
        "        break\n"
   ]
  },
  {
   "cell_type": "markdown",
   "id": "72d5f8d0",
   "metadata": {},
   "source": [
    "<a id='l5_execution'></a>\n"
   ]
  },
  {
   "cell_type": "markdown",
   "id": "90e4ef2e",
   "metadata": {},
   "source": [
    "## Takeaways\n",
    "\n",
    "Setup:\n",
    "\n",
    "- [Node_a uses `interrupt()`](#interrupt_node) to pause execution when unexpected input occurs\n",
    "- [Checkpointer enables interrupts](#l5_memory) by saving state between pause and resume\n",
    "\n",
    "Execution:\n",
    "\n",
    "- When interrupt is called, the [graph pauses](#l5_execution) and waits for human input\n",
    "- The admin response determines whether to continue execution or end\n",
    "- Graph state is preserved during the pause and restored when resuming\n",
    "\n",
    "Try Next:\n",
    "\n",
    "- Modify the interrupt logic to ask different questions based on the unexpected input\n",
    "- Add interrupt calls in node_b or node_c to pause at different points in the workflow\n"
   ]
  }
 ],
 "metadata": {
  "kernelspec": {
   "display_name": "Python 3 (ipykernel)",
   "language": "python",
   "name": "python3"
  },
  "language_info": {
   "codemirror_mode": {
    "name": "ipython",
    "version": 3
   },
   "file_extension": ".py",
   "mimetype": "text/x-python",
   "name": "python",
   "nbconvert_exporter": "python",
   "pygments_lexer": "ipython3",
   "version": "3.13.5"
  }
 },
 "nbformat": 4,
 "nbformat_minor": 5
}
