{
 "cells": [
  {
   "cell_type": "markdown",
   "id": "54cdfb34",
   "metadata": {},
   "source": [
    "<span style=\"font-size: 5em\">🦜</span>"
   ]
  },
  {
   "cell_type": "markdown",
   "id": "594894cb-cd02-46fe-9036-155c8a7c5128",
   "metadata": {},
   "source": [
    "# __LangGraph Essentials__\n",
    "## Lab 2: Parallel Execution\n",
    "<div style=\"display:flex; align-items:flex-start;\">\n",
    "  <img src=\"../assets/Parallel.png\" width=\"300\" style=\"margin-right:15px;\"/>\n",
    "</div>"
   ]
  },
  {
   "cell_type": "markdown",
   "id": "4f376c18",
   "metadata": {},
   "source": [
    "LangGraph enables parallel execution when a node has multiple outgoing edges. This notebook demonstrates how to build graphs with branching paths that execute simultaneously and then converge. We will use the operator.add reducer to accumulate results from parallel branches.\n"
   ]
  },
  {
   "cell_type": "code",
   "execution_count": null,
   "id": "e5140625",
   "metadata": {},
   "outputs": [],
   "source": [
    "from IPython.display import Image, display\n",
    "import operator\n",
    "from typing import Annotated, List, Literal, TypedDict\n",
    "from langgraph.graph import END, START, StateGraph\n",
    "from langgraph.types import Command, interrupt"
   ]
  },
  {
   "cell_type": "markdown",
   "id": "a64cf582",
   "metadata": {},
   "source": [
    "<a id='state_with_reducer'></a>\n"
   ]
  },
  {
   "cell_type": "code",
   "execution_count": null,
   "id": "9e3db9e3",
   "metadata": {},
   "outputs": [],
   "source": [
    "class State(TypedDict):\n",
    "    nlist: Annotated[List[str], operator.add]"
   ]
  },
  {
   "cell_type": "markdown",
   "id": "fae773d1",
   "metadata": {},
   "source": [
    "<a id='parallel_nodes'></a>\n"
   ]
  },
  {
   "cell_type": "code",
   "execution_count": null,
   "id": "7cc57dd6",
   "metadata": {},
   "outputs": [],
   "source": [
    "def node_a(state: State) -> State:\n",
    "    print(f\"Adding 'A' to {state['nlist']}\")\n",
    "    return(State(nlist = [\"A\"]))\n",
    "\n",
    "def node_b(state: State) -> State:\n",
    "    print(f\"Adding 'B' to {state['nlist']}\")\n",
    "    return(State(nlist = [\"B\"]))\n",
    "\n",
    "def node_c(state: State) -> State:\n",
    "    print(f\"Adding 'C' to {state['nlist']}\")\n",
    "    return(State(nlist = [\"C\"]))\n",
    "\n",
    "def node_bb(state: State) -> State:\n",
    "    print(f\"Adding 'BB' to {state['nlist']}\")\n",
    "    return(State(nlist = [\"BB\"]))\n",
    "\n",
    "def node_cc(state: State) -> State:\n",
    "    print(f\"Adding 'CC' to {state['nlist']}\")\n",
    "    return(State(nlist = [\"CC\"]))\n",
    "\n",
    "def node_d(state: State) -> State:\n",
    "    print(f\"Adding 'D' to {state['nlist']}\")\n",
    "    return(State(nlist = [\"D\"]))"
   ]
  },
  {
   "cell_type": "markdown",
   "id": "43257483",
   "metadata": {},
   "source": [
    "<a id='parallel_graph'></a>\n"
   ]
  },
  {
   "cell_type": "code",
   "execution_count": null,
   "id": "1c4af764",
   "metadata": {},
   "outputs": [],
   "source": [
    "builder = StateGraph(State)\n",
    "\n",
    "# Add nodes\n",
    "builder.add_node(\"a\", node_a)\n",
    "builder.add_node(\"b\", node_b)\n",
    "builder.add_node(\"c\", node_c)\n",
    "builder.add_node(\"bb\", node_bb)\n",
    "builder.add_node(\"cc\", node_cc)\n",
    "builder.add_node(\"d\", node_d)\n",
    "\n",
    "# Add edges\n",
    "builder.add_edge(START,\"a\")\n",
    "builder.add_edge(\"a\", \"b\")\n",
    "builder.add_edge(\"a\", \"c\")\n",
    "builder.add_edge(\"b\", \"bb\")\n",
    "builder.add_edge(\"c\", \"cc\")\n",
    "builder.add_edge(\"bb\", \"d\")\n",
    "builder.add_edge(\"cc\", \"d\")\n",
    "builder.add_edge(\"d\",END)\n",
    "\n",
    "# Compile and display\n",
    "graph = builder.compile()\n",
    "display(Image(graph.get_graph().draw_mermaid_png()))"
   ]
  },
  {
   "cell_type": "markdown",
   "id": "4e1fc2e9",
   "metadata": {},
   "source": [
    "<a id='parallel_execution'></a>\n"
   ]
  },
  {
   "cell_type": "code",
   "execution_count": null,
   "id": "f8525397",
   "metadata": {},
   "outputs": [],
   "source": [
    "initial_state = State(\n",
    "    nlist = [\"Initial String:\"]\n",
    ")\n",
    "graph.invoke(initial_state)"
   ]
  },
  {
   "cell_type": "markdown",
   "id": "6fd8393c",
   "metadata": {},
   "source": [
    "## Takeaways\n",
    "\n",
    "Setup:\n",
    "\n",
    "- State: You added a [reducer function](#state_with_reducer) in the state definition using Annotated with operator.add\n",
    "- Graph: You used [add_edge()](#parallel_graph) to create parallel paths from node 'a' to both 'b' and 'c'\n",
    "\n",
    "Execution:\n",
    "\n",
    "- Runtime: [Nodes b and c](#parallel_nodes) operate in parallel, executing simultaneously\n",
    "- The reducer function merges the values returned from parallel branches\n",
    "- Results from node b and c are stored to state before starting node bb and cc\n",
    "\n",
    "Result:\n",
    "\n",
    "- The [final result](#parallel_execution) contains all values added to `nlist` by all nodes\n",
    "- Values accumulate in the order nodes complete execution\n",
    "\n",
    "Try Next:\n",
    "\n",
    "- Try adding a 3rd parallel path from node 'a'\n",
    "- Rather than joining at d, have bb and cc pass control to END. Are values still merged?\n",
    "- Change the reducer from operator.add to a different function to see how state merging changes"
   ]
  }
 ],
 "metadata": {
  "kernelspec": {
   "display_name": "Python 3 (ipykernel)",
   "language": "python",
   "name": "python3"
  },
  "language_info": {
   "codemirror_mode": {
    "name": "ipython",
    "version": 3
   },
   "file_extension": ".py",
   "mimetype": "text/x-python",
   "name": "python",
   "nbconvert_exporter": "python",
   "pygments_lexer": "ipython3",
   "version": "3.13.5"
  }
 },
 "nbformat": 4,
 "nbformat_minor": 5
}
