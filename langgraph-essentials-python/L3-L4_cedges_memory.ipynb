{
 "cells": [
  {
   "cell_type": "markdown",
   "id": "9616d2da",
   "metadata": {},
   "source": [
    "<span style=\"font-size: 5em\">🦜</span>"
   ]
  },
  {
   "cell_type": "markdown",
   "id": "e085d75f-e733-4049-a1ef-f73954eeb83a",
   "metadata": {},
   "source": [
    "# __LangGraph Essentials__\n",
    "## Lab 3: Conditional Edges\n",
    "<div style=\"display:flex; align-items:flex-start;\">\n",
    "  <img src=\"../assets/Conditional.png\" width=\"300\" style=\"margin-right:15px;\"/>\n",
    "</div>"
   ]
  },
  {
   "cell_type": "markdown",
   "id": "3aa65991",
   "metadata": {},
   "source": [
    "Conditional edges enable dynamic routing where the next node to execute depends on the current state. This notebook shows two approaches: using `Command` to return routing decisions directly from nodes, and using `add_conditional_edges` with a separate routing function.\n"
   ]
  },
  {
   "cell_type": "code",
   "execution_count": null,
   "id": "50939bc9",
   "metadata": {},
   "outputs": [],
   "source": [
    "from IPython.display import Image, display\n",
    "import operator\n",
    "from typing import Annotated, List, Literal, TypedDict\n",
    "from langgraph.graph import END, START, StateGraph\n",
    "from langgraph.types import Command, interrupt"
   ]
  },
  {
   "cell_type": "code",
   "execution_count": null,
   "id": "9c4fed7a-c2ea-4931-9844-b3ed08826515",
   "metadata": {},
   "outputs": [],
   "source": [
    "class State(TypedDict):\n",
    "    nlist : Annotated[list[str], operator.add]   "
   ]
  },
  {
   "cell_type": "markdown",
   "id": "b917138c",
   "metadata": {},
   "source": [
    "<a id='l3_state'></a>\n"
   ]
  },
  {
   "cell_type": "code",
   "execution_count": null,
   "id": "cee4b9bc-235f-40ba-a891-5afee642eb7b",
   "metadata": {},
   "outputs": [],
   "source": [
    "def node_a(state: State) -> Command[Literal[\"b\", \"c\", END]]:\n",
    "    select = state[\"nlist\"][-1]\n",
    "    if select == \"b\":\n",
    "        next_node = \"b\"\n",
    "    elif select == \"c\":\n",
    "        next_node = \"c\"\n",
    "    elif select == \"q\":\n",
    "        next_node = END\n",
    "    else:\n",
    "        next_node = END\n",
    "\n",
    "    return Command(\n",
    "        update = State(nlist = [select]),\n",
    "        goto = [next_node]\n",
    "    )\n",
    "\n",
    "# def node_a(state: State):\n",
    "#     return\n",
    "\n",
    "def node_b(state: State) -> State:\n",
    "    return(State(nlist = [\"B\"]))\n",
    "    \n",
    "def node_c(state: State) -> State:\n",
    "    return(State(nlist = [\"C\"]))"
   ]
  },
  {
   "cell_type": "markdown",
   "id": "82a4d5e7",
   "metadata": {},
   "source": [
    "<a id='command_node'></a>\n"
   ]
  },
  {
   "cell_type": "code",
   "execution_count": null,
   "id": "83e14be5",
   "metadata": {},
   "outputs": [],
   "source": [
    "def conditional_edge(state: State) -> Literal[\"b\", \"c\", END]:\n",
    "    select = state[\"nlist\"][-1]\n",
    "    if select == \"b\":\n",
    "        return \"b\"\n",
    "    elif select == \"c\":\n",
    "        return \"c\"\n",
    "    elif select == \"q\":\n",
    "        return END\n",
    "    else:\n",
    "        return END"
   ]
  },
  {
   "cell_type": "markdown",
   "id": "b71d110a",
   "metadata": {},
   "source": [
    "<a id='conditional_edge_func'></a>\n"
   ]
  },
  {
   "cell_type": "code",
   "execution_count": null,
   "id": "8685cf14-45b8-4bde-9bf9-4b1aaed85f40",
   "metadata": {},
   "outputs": [],
   "source": [
    "builder = StateGraph(State)\n",
    "\n",
    "# Add nodes\n",
    "builder.add_node(\"a\", node_a)\n",
    "builder.add_node(\"b\", node_b)\n",
    "builder.add_node(\"c\", node_c)\n",
    "\n",
    "# Add edges\n",
    "builder.add_edge(START, \"a\")\n",
    "builder.add_edge(\"b\", END)\n",
    "builder.add_edge(\"c\", END)\n",
    "# builder.add_conditional_edges(\"a\", conditional_edge)\n",
    "\n",
    "# Compile and display\n",
    "graph = builder.compile()\n",
    "display(Image(graph.get_graph().draw_mermaid_png()))"
   ]
  },
  {
   "cell_type": "markdown",
   "id": "c0eaaf91",
   "metadata": {},
   "source": [
    "<a id='l3_graph'></a>\n"
   ]
  },
  {
   "cell_type": "code",
   "execution_count": null,
   "id": "a576a46e",
   "metadata": {},
   "outputs": [],
   "source": [
    "user = input('b, c, or q to quit: ')\n",
    "\n",
    "input_state = State(\n",
    "    nlist = [user]\n",
    ")\n",
    "graph.invoke(input_state)"
   ]
  },
  {
   "cell_type": "markdown",
   "id": "4e44d3cc",
   "metadata": {},
   "source": [
    "<a id='l3_execution'></a>\n"
   ]
  },
  {
   "cell_type": "code",
   "execution_count": null,
   "id": "1e5ea961-bacc-407b-afb0-d1fc00aee6bb",
   "metadata": {},
   "outputs": [],
   "source": [
    "while True:\n",
    "    user = input('b, c, or q to quit: ')\n",
    "    print(user)\n",
    "    input_state = State(nlist =  [user])\n",
    "    result = graph.invoke(input_state)\n",
    "    print( result )\n",
    "    if result['nlist'][-1] == \"q\":\n",
    "        print(\"quit\")\n",
    "        break"
   ]
  },
  {
   "cell_type": "markdown",
   "id": "3fd3a869",
   "metadata": {},
   "source": [
    "## Takeaways\n",
    "\n",
    "Setup:\n",
    "\n",
    "- Conditional Routing: [Node_a uses Command](#command_node) to return both state updates and routing decisions\n",
    "- Alternative Approach: The [conditional_edge function](#conditional_edge_func) separates routing logic from node logic\n",
    "\n",
    "Execution:\n",
    "\n",
    "- Based on user input, the [graph dynamically routes](#l3_execution) to node 'b', 'c', or END\n",
    "- The routing decision reads the last value in state to determine the next node\n",
    "- Control flow changes based on state without hardcoded paths\n",
    "\n",
    "Try Next:\n",
    "\n",
    "- Add a new node 'd' and route to it with a different input value\n",
    "- Uncomment the add_conditional_edges line to use the alternative routing approach\n"
   ]
  },
  {
   "cell_type": "markdown",
   "id": "f9cedda9",
   "metadata": {},
   "source": [
    "## Lab 4: Memory\n",
    "<div style=\"display:flex; align-items:flex-start;\">\n",
    "  <img src=\"../assets/Memory.png\" width=\"500\" style=\"margin-right:15px;\"/>\n",
    "</div>"
   ]
  },
  {
   "cell_type": "markdown",
   "id": "394a5c03",
   "metadata": {},
   "source": [
    "Memory allows graphs to persist state across multiple invocations. By adding a checkpointer, your graph can maintain conversation history or accumulate results over time. This notebook demonstrates how to add memory using `InMemorySaver`.\n"
   ]
  },
  {
   "cell_type": "code",
   "execution_count": null,
   "id": "5e1cdbdd",
   "metadata": {},
   "outputs": [],
   "source": [
    "from langgraph.checkpoint.memory import InMemorySaver\n",
    "memory = InMemorySaver()\n",
    "config = {\"configurable\": {\"thread_id\": \"1\"}}"
   ]
  },
  {
   "cell_type": "markdown",
   "id": "58aec899",
   "metadata": {},
   "source": [
    "<a id='memory_setup'></a>\n"
   ]
  },
  {
   "cell_type": "code",
   "execution_count": null,
   "id": "cd662c0a",
   "metadata": {},
   "outputs": [],
   "source": [
    "graph = builder.compile(checkpointer=memory)"
   ]
  },
  {
   "cell_type": "markdown",
   "id": "bb52c7dc",
   "metadata": {},
   "source": [
    "<a id='graph_with_memory'></a>\n"
   ]
  },
  {
   "cell_type": "code",
   "execution_count": null,
   "id": "ac7da076",
   "metadata": {},
   "outputs": [],
   "source": [
    "while True:\n",
    "    user = input('b, c, or q to quit: ')\n",
    "    input_state = State(nlist = [user])\n",
    "    result = graph.invoke(input_state, config )\n",
    "    print( result )\n",
    "    if result['nlist'][-1] == \"q\":\n",
    "        print(\"quit\")\n",
    "        break"
   ]
  },
  {
   "cell_type": "markdown",
   "id": "b13a8478",
   "metadata": {},
   "source": [
    "<a id='l4_execution'></a>\n"
   ]
  },
  {
   "cell_type": "markdown",
   "id": "b9c973e9",
   "metadata": {},
   "source": [
    "## Takeaways\n",
    "\n",
    "Setup:\n",
    "\n",
    "- [InMemorySaver and `thread_id` config](#memory_setup) enable state persistence across invocations\n",
    "- Pass the [checkpointer to compile()](#graph_with_memory) to enable memory\n",
    "\n",
    "Execution:\n",
    "\n",
    "- Each [invoke with the same `thread_id`](#l4_execution) accesses the same persisted state\n",
    "- State accumulates across multiple invocations within the same thread\n",
    "- Different `thread_id`s maintain separate conversation histories\n",
    "\n",
    "Try Next:\n",
    "\n",
    "- Run the loop multiple times and observe how nlist grows with each invocation\n",
    "- Change the `thread_id` to start a fresh conversation with empty state\n"
   ]
  },
  {
   "cell_type": "markdown",
   "id": "67846078",
   "metadata": {},
   "source": []
  }
 ],
 "metadata": {
  "kernelspec": {
   "display_name": "Python 3 (ipykernel)",
   "language": "python",
   "name": "python3"
  },
  "language_info": {
   "codemirror_mode": {
    "name": "ipython",
    "version": 3
   },
   "file_extension": ".py",
   "mimetype": "text/x-python",
   "name": "python",
   "nbconvert_exporter": "python",
   "pygments_lexer": "ipython3",
   "version": "3.13.5"
  }
 },
 "nbformat": 4,
 "nbformat_minor": 5
}
